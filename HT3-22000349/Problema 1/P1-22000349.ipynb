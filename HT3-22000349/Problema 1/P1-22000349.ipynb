{
 "cells": [
  {
   "cell_type": "markdown",
   "metadata": {},
   "source": [
    "## Hoja de trabajo 3 - Problema 1\n",
    "### Mario Eduardo Tabarini Andretta\n",
    "### 22000349"
   ]
  },
  {
   "cell_type": "markdown",
   "metadata": {},
   "source": [
    "#### a. Implemente una regex para validar un correo electrónico en general, a continuación, se muestran algunos ejemplos:\n",
    "\n",
    "#### Guate.360-porelmundo@miguate.com\n",
    "#### Miercoles3@hotmail.com\n",
    "#### Progra3.galileo@galileo.edu"
   ]
  },
  {
   "cell_type": "code",
   "execution_count": 11,
   "metadata": {},
   "outputs": [],
   "source": [
    "import re\n",
    "\n",
    "def validacion_mail(mail):\n",
    "    \n",
    "    estructura = r'^[a-zA-Z0-9._%+-]+@[a-zA-Z0-9.-]+\\.[a-zA-Z]{2,}$'\n",
    "    \n",
    "    if re.match(estructura, mail):\n",
    "        return True\n",
    "    else:\n",
    "        return False\n"
   ]
  },
  {
   "cell_type": "code",
   "execution_count": 12,
   "metadata": {},
   "outputs": [
    {
     "name": "stdout",
     "output_type": "stream",
     "text": [
      "Guate.360-porelmundo@miguate.com: correo válido.\n",
      "Miercoles3@hotmail.com: correo válido.\n",
      "Progra3.galileo@galileo.edu: correo válido.\n",
      "mario#gmail.com: correo inválido\n",
      "!galileo@yahoo.net: correo inválido\n",
      "   datascience@gmail.com: correo inválido\n",
      "datascience@gmail.com: correo válido.\n"
     ]
    }
   ],
   "source": [
    "correos_test = [\n",
    "    \"Guate.360-porelmundo@miguate.com\",\n",
    "    \"Miercoles3@hotmail.com\",\n",
    "    \"Progra3.galileo@galileo.edu\",\n",
    "    \"mario#gmail.com\",\n",
    "    \"!galileo@yahoo.net\",\n",
    "    \"   datascience@gmail.com\",\n",
    "    \"datascience@gmail.com\"\n",
    "]\n",
    "\n",
    "for mail in correos_test:\n",
    "    if validacion_mail(mail):\n",
    "        print(f\"{mail}: correo válido.\")\n",
    "    else:\n",
    "        print(f\"{mail}: correo inválido\")"
   ]
  },
  {
   "cell_type": "markdown",
   "metadata": {},
   "source": [
    "#### b. Implemente una regex para validar la dirección url de una página web con los tipos de domino (.com, .org, .edu). Note que la url incluye el protocolo (http o https) y los símbolos (//www.), a continuación se muestran algunos ejemplos:\n",
    "#### https://www.guate360-porelmundo.com\n",
    "#### http://www.a2.net\n",
    "#### https://www.galileo.edu\n",
    "#### http://www.8.org (No valida)"
   ]
  },
  {
   "cell_type": "code",
   "execution_count": 35,
   "metadata": {},
   "outputs": [],
   "source": [
    "def validacion_url(url):\n",
    "    \n",
    "    estructura = r'^https?://(www\\.)?[a-zA-Z0-9][a-zA-Z0-9-]*[a-zA-Z0-9]\\.(com|org|edu)$'\n",
    "    return re.match(estructura, url) is not None\n",
    "\n",
    "    \n",
    "    if re.match(estructura, url):\n",
    "        return True\n",
    "    else:\n",
    "        return False"
   ]
  },
  {
   "cell_type": "code",
   "execution_count": 38,
   "metadata": {},
   "outputs": [
    {
     "name": "stdout",
     "output_type": "stream",
     "text": [
      "https://www.guate360-porelmundo.com: url válida.\n",
      "http://www.a2.net: url inválida\n",
      "https://www.galileo.edu: url válida.\n",
      "http://www.8.org: url inválida\n"
     ]
    }
   ],
   "source": [
    "urls_test = [\n",
    "    \"https://www.guate360-porelmundo.com\",\n",
    "    \"http://www.a2.net\", #tomar en cuenta que esta será inválida debido a que no se solicitó el dominio .net en las instrucciones.\n",
    "    \"https://www.galileo.edu\",\n",
    "    \"http://www.8.org\"\n",
    "]\n",
    "\n",
    "for url in urls_test:\n",
    "    if validacion_url(url):\n",
    "        print(f\"{url}: url válida.\")\n",
    "    else:\n",
    "        print(f\"{url}: url inválida\")"
   ]
  },
  {
   "cell_type": "markdown",
   "metadata": {},
   "source": [
    "#### c. Implemente una regex para validar una MAC Address, notar que las mac address están divididas en 6 bloques de caracteres hexadecimales, es decir que los símbolos solo pueden variar del 0 al 9 y las letras de la A a la F. a continuación se muestran algunos ejemplos:\n",
    "#### 5A 6F AF 8C 9B 1D\n",
    "#### 6D 6C 4D 3A EB 3F\n",
    "#### 3A 7C FA C8 6D 4J (no válida porque el ultimo bloque contiene una J)"
   ]
  },
  {
   "cell_type": "code",
   "execution_count": 48,
   "metadata": {},
   "outputs": [],
   "source": [
    "def validacion_mac(mac):\n",
    "    \n",
    "    estructura = r'^([0-9A-Fa-f]{2}[ :-]){5}[0-9A-Fa-f]{2}$'\n",
    "    return re.match(estructura, mac) is not None\n",
    "\n",
    "    \n",
    "    if re.match(estructura, mac):\n",
    "        return True\n",
    "    else:\n",
    "        return False"
   ]
  },
  {
   "cell_type": "code",
   "execution_count": 50,
   "metadata": {},
   "outputs": [
    {
     "name": "stdout",
     "output_type": "stream",
     "text": [
      "5A:6F:AF:8C:9B:1D - mac válida.\n",
      "6D 6C 4D 3A EB 3F - mac válida.\n",
      "3A:7C:FA:C8:6D:4J - mac inválida\n"
     ]
    }
   ],
   "source": [
    "mac_test = [\n",
    "    \"5A:6F:AF:8C:9B:1D\",\n",
    "    \"6D 6C 4D 3A EB 3F\",\n",
    "    \"3A:7C:FA:C8:6D:4J\"\n",
    "]\n",
    "\n",
    "for mac in mac_test:\n",
    "    if validacion_mac(mac):\n",
    "        print(f\"{mac} - mac válida.\")\n",
    "    else:\n",
    "        print(f\"{mac} - mac inválida\")"
   ]
  },
  {
   "cell_type": "markdown",
   "metadata": {},
   "source": [
    "#### d. Implemente una regex para validar una dirección IPv4, notar que las direcciones IPv4 están divididas en 4 bloques de valores los cuales solo pueden ir desde 0 hasta 255, una ip donde algunos de sus bloques sea mayor a 255 no es valida, adem´as tome en cuenta que cada bloque está separada por un punto. A continuación se muestran algunos ejemplos:\n",
    "#### 192.16.8.1\n",
    "#### 234.56.78.90\n",
    "#### 1.2.3.4\n",
    "#### 192.168.45.345 (no válida porque el último bloque es mayor a 255)"
   ]
  },
  {
   "cell_type": "code",
   "execution_count": 58,
   "metadata": {},
   "outputs": [],
   "source": [
    "def validacion_ip(ip):\n",
    "    \n",
    "    estructura = r'^(25[0-5]|2[0-4][0-9]|[01]?[0-9][0-9]?)\\.(25[0-5]|2[0-4][0-9]|[01]?[0-9][0-9]?)\\.(25[0-5]|2[0-4][0-9]|[01]?[0-9][0-9]?)\\.(25[0-5]|2[0-4][0-9]|[01]?[0-9][0-9]?)$'\n",
    "    return re.match(estructura, ip) is not None\n",
    "\n",
    "    \n",
    "    if re.match(estructura, ip):\n",
    "        return True\n",
    "    else:\n",
    "        return False"
   ]
  },
  {
   "cell_type": "code",
   "execution_count": 59,
   "metadata": {},
   "outputs": [
    {
     "name": "stdout",
     "output_type": "stream",
     "text": [
      "192.16.8.1 - ip válida.\n",
      "234.56.78.90 - ip válida.\n",
      "1.2.3.4 - ip válida.\n",
      "192.168.45.345 - ip inválida\n"
     ]
    }
   ],
   "source": [
    "ip_test = [\n",
    "    \"192.16.8.1\",\n",
    "    \"234.56.78.90\",\n",
    "    \"1.2.3.4\",\n",
    "    \"192.168.45.345\"\n",
    "]\n",
    "\n",
    "for ip in ip_test:\n",
    "    if validacion_ip(ip):\n",
    "        print(f\"{ip} - ip válida.\")\n",
    "    else:\n",
    "        print(f\"{ip} - ip inválida\")"
   ]
  },
  {
   "cell_type": "markdown",
   "metadata": {},
   "source": [
    "#### e. Implemente una regex para validar una fecha con la secuencia día-mes-año donde el día, mes y año puedan estar separados ya sea por el caracter / o el caracter - o el caracter ., notar que las fechas son validas si los si los días están definidos desde el 1 al 31, el mes del 1 al 12 y el año de 2000 al 2019. También debe tomar en cuenta que los días y meses pueden estar escritos ya sea con uno o dos caracteres por ejemplo: Enero puede escribirse como 1 o como 01. Los añoos también pueden expresarse ya sea con dos o con cuatro caracteres por ejemplo: 19 o 2019 son validos. A continuación se muestran algunos ejemplos:\n",
    "#### 20/1/2019\n",
    "#### 12.03.2005\n",
    "#### 31-11-08\n",
    "#### 1-1-2012\n",
    "#### 12-12-22 (no válida, porque el año supera al 2019)."
   ]
  },
  {
   "cell_type": "code",
   "execution_count": 107,
   "metadata": {},
   "outputs": [],
   "source": [
    "def validacion_fecha(fecha):\n",
    "    \n",
    "    estructura = r'^(0[1-9]|[12][0-9]|3[0-1]|[1-9])[-/.](0[1-9]|1[0-2]|[1-9])[-/.](20\\d{2}|201[0-9]|200[0-9])$'\n",
    "    re.match(estructura, fecha) is not None\n",
    "\n",
    "    \n",
    "    if re.match(estructura, fecha):\n",
    "        return True\n",
    "    else:\n",
    "        return False"
   ]
  },
  {
   "cell_type": "code",
   "execution_count": 109,
   "metadata": {},
   "outputs": [
    {
     "name": "stdout",
     "output_type": "stream",
     "text": [
      "20/1/2019 - fecha válida.\n",
      "12.03.2005 - fecha válida.\n",
      "31-11-2008 - fecha válida.\n",
      "1-1-2012 - fecha válida.\n",
      "12-12-22 - fecha inválida\n"
     ]
    }
   ],
   "source": [
    "fecha_test = [\n",
    "    \"20/1/2019\",\n",
    "    \"12.03.2005\",\n",
    "    \"31-11-2008\",\n",
    "    \"1-1-2012\",\n",
    "    \"12-12-22\"\n",
    "]\n",
    "\n",
    "for fecha in fecha_test:\n",
    "    if validacion_fecha(fecha):\n",
    "        print(f\"{fecha} - fecha válida.\")\n",
    "    else:\n",
    "        print(f\"{fecha} - fecha inválida\")"
   ]
  }
 ],
 "metadata": {
  "kernelspec": {
   "display_name": "base",
   "language": "python",
   "name": "python3"
  },
  "language_info": {
   "codemirror_mode": {
    "name": "ipython",
    "version": 3
   },
   "file_extension": ".py",
   "mimetype": "text/x-python",
   "name": "python",
   "nbconvert_exporter": "python",
   "pygments_lexer": "ipython3",
   "version": "3.9.13"
  },
  "orig_nbformat": 4
 },
 "nbformat": 4,
 "nbformat_minor": 2
}
