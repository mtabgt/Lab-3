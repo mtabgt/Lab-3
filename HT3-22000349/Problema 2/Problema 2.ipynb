{
 "cells": [
  {
   "cell_type": "markdown",
   "metadata": {},
   "source": [
    "## Hoja de trabajo 3 - Problema 2\n",
    "### Mario Eduardo Tabarini Andretta\n",
    "### 22000349"
   ]
  },
  {
   "cell_type": "code",
   "execution_count": 7,
   "metadata": {},
   "outputs": [
    {
     "name": "stdout",
     "output_type": "stream",
     "text": [
      "El día promedio es 15.59576923076923, el mes promedio es 6.482846153846154, el año promedio es 2016.6761538461537\n"
     ]
    }
   ],
   "source": [
    "import os\n",
    "import re\n",
    "from datetime import datetime\n",
    "\n",
    "meses = {\n",
    "    'Jan': 1,\n",
    "    'Feb': 2,\n",
    "    'Mar': 3,\n",
    "    'Apr': 4,\n",
    "    'May': 5,\n",
    "    'Jun': 6,\n",
    "    'Jul': 7,\n",
    "    'Aug': 8,\n",
    "    'Sep': 9,\n",
    "    'Oct': 10,\n",
    "    'Nov': 11,\n",
    "    'Dec': 12,\n",
    "}\n",
    "\n",
    "total_dias = 0\n",
    "total_meses = 0\n",
    "total_anios = 0\n",
    "total_fechas = 0\n",
    "\n",
    "\n",
    "patron_fecha = r'(\\d{1,2}|[A-Za-z]{3})[-/](\\d{1,2}|[A-Za-z]{3})[-/](\\d{4})'\n",
    "\n",
    "\n",
    "datos = \"Datos\"\n",
    "\n",
    "for archivo in os.listdir(datos):\n",
    "    if archivo.endswith('.txt'):\n",
    "        with open(os.path.join(datos, archivo), 'r') as f:\n",
    "            contenido = f.read()\n",
    "            fechas_encontradas = re.findall(patron_fecha, contenido)\n",
    "            for fecha in fechas_encontradas:\n",
    "                dia, mes, anio = fecha\n",
    "                if mes.isdigit():\n",
    "                    mes = int(mes)\n",
    "                else:\n",
    "                    mes = meses[mes]\n",
    "                dia = int(dia)\n",
    "                anio = int(anio)\n",
    "\n",
    "                total_dias += dia\n",
    "                total_meses += mes\n",
    "                total_anios += anio\n",
    "                total_fechas += 1\n",
    "\n",
    "promedio_dias = total_dias / total_fechas\n",
    "promedio_meses = total_meses / total_fechas\n",
    "promedio_anios = total_anios / total_fechas\n",
    "\n",
    "print(f\"El día promedio es {promedio_dias}, el mes promedio es {promedio_meses}, el año promedio es {promedio_anios}\")"
   ]
  }
 ],
 "metadata": {
  "kernelspec": {
   "display_name": "Clase1-2023",
   "language": "python",
   "name": "python3"
  },
  "language_info": {
   "codemirror_mode": {
    "name": "ipython",
    "version": 3
   },
   "file_extension": ".py",
   "mimetype": "text/x-python",
   "name": "python",
   "nbconvert_exporter": "python",
   "pygments_lexer": "ipython3",
   "version": "3.8.16"
  },
  "orig_nbformat": 4
 },
 "nbformat": 4,
 "nbformat_minor": 2
}
